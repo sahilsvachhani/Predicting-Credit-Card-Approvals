{
  "nbformat": 4,
  "nbformat_minor": 0,
  "metadata": {
    "colab": {
      "provenance": []
    },
    "kernelspec": {
      "name": "python3",
      "display_name": "Python 3"
    },
    "language_info": {
      "name": "python"
    }
  },
  "cells": [
    {
      "cell_type": "markdown",
      "metadata": {
        "id": "3Itwi8HW-9P6"
      },
      "source": [
        "Importing the Dependencies"
      ]
    },
    {
      "cell_type": "code",
      "metadata": {
        "id": "UH1Bgx49msIs"
      },
      "source": [
        "import numpy as np\n",
        "import pandas as pd\n",
        "import seaborn as sns\n",
        "from sklearn.model_selection import train_test_split\n",
        "from sklearn import svm\n",
        "from sklearn.metrics import accuracy_score"
      ],
      "execution_count": null,
      "outputs": []
    },
    {
      "cell_type": "markdown",
      "metadata": {
        "id": "6Gvrw17q_zY5"
      },
      "source": [
        "Data Collection and Processing"
      ]
    },
    {
      "cell_type": "code",
      "source": [
        "from google.colab import files\n",
        "uploaded = files.upload()\n",
        "df = pd.read_csv('Credit_Card_Dataset.csv')\n",
        "df.head(7)"
      ],
      "metadata": {
        "id": "J2Bpkp8DJ_4_"
      },
      "execution_count": null,
      "outputs": []
    },
    {
      "cell_type": "code",
      "source": [
        "# Print few rows of the data\n",
        "print(df.head())"
      ],
      "metadata": {
        "id": "h-wXpR9RVzk_"
      },
      "execution_count": null,
      "outputs": []
    },
    {
      "cell_type": "code",
      "metadata": {
        "id": "7rif01IcAVhj"
      },
      "source": [
        "# Show entie DataFrame\n",
        "df"
      ],
      "execution_count": null,
      "outputs": []
    },
    {
      "cell_type": "code",
      "metadata": {
        "id": "cadoapvyAdp7"
      },
      "source": [
        "# number of rows and columns\n",
        "df.shape"
      ],
      "execution_count": null,
      "outputs": []
    },
    {
      "cell_type": "code",
      "metadata": {
        "id": "8Xp06TZ3Bt6S"
      },
      "source": [
        "# number of missing values in each column\n",
        "df.isnull().sum()"
      ],
      "execution_count": null,
      "outputs": []
    },
    {
      "cell_type": "code",
      "source": [
        "# Fill missing values in some columns with the mode (most frequent value)\n",
        "df['annual_income_joint'].fillna(df['annual_income_joint'].mode()[0], inplace = True)\n",
        "df['verification_income_joint'].fillna(df['verification_income_joint'].mode()[0], inplace = True)\n",
        "df['debt_to_income_joint'].fillna(df['debt_to_income_joint'].mode()[0], inplace = True)\n",
        "df['months_since_last_delinq'].fillna(df['months_since_last_delinq'].mode()[0], inplace = True)\n",
        "df['months_since_90d_late'].fillna(df['months_since_90d_late'].mode()[0], inplace = True)\n",
        "df['months_since_last_credit_inquiry'].fillna(df['months_since_last_credit_inquiry'].mode()[0], inplace = True)\n",
        "df['num_accounts_120d_past_due'].fillna(df['num_accounts_120d_past_due'].mode()[0], inplace = True)\n",
        "\n",
        "# Fill missing values in emp_length and debt_to_income with the mean\n",
        "df.emp_length = df.emp_length.fillna(df.emp_length.mean())\n",
        "df.debt_to_income = df.debt_to_income.fillna(df.debt_to_income.mean())\n",
        "\n",
        "# Drop columns that might not be relevant for prediction\n",
        "df = df.drop(columns=['emp_title', 'state', 'sub_grade', 'loan_purpose'])"
      ],
      "metadata": {
        "id": "JAxG8SZSIzjw"
      },
      "execution_count": null,
      "outputs": []
    },
    {
      "cell_type": "code",
      "metadata": {
        "id": "BMZ1CK97CqhY"
      },
      "source": [
        "# number of missing values in each column\n",
        "df.isnull().sum()"
      ],
      "execution_count": null,
      "outputs": []
    },
    {
      "cell_type": "code",
      "metadata": {
        "id": "Flk0RHzEGWXw"
      },
      "source": [
        "# convert categorical columns to numerical values\n",
        "df.replace({'homeownership':{'MORTGAGE':0,'RENT':1, 'OWN':2},\n",
        "            'verified_income':{'Verified':0,'Not Verified':1, 'Source Verified':2},\n",
        "            'verification_income_joint':{'Verified':0,'Not Verified':1, 'Source Verified':2},\n",
        "            'application_type':{'individual':0,'joint':1},\n",
        "            'grade':{'A':0,'B':1, 'C':2, 'D':3, 'E':4, 'F':5, 'G':6},\n",
        "            'issue_month':{'Mar-18':0,'Feb-18':1, 'Jan-18':2},\n",
        "            'loan_status':{'Current':0, 'Fully Paid':1, 'In Grace Period':2, 'Late (31-120 days)':3, 'Charged Off':4, 'Late (16-30 days)':5},\n",
        "            'initial_listing_status':{'whole':0, 'fractional':1},\n",
        "            'disbursement_method':{'Cash':0, 'DirectPay':1}},inplace=True)"
      ],
      "execution_count": null,
      "outputs": []
    },
    {
      "cell_type": "code",
      "metadata": {
        "id": "CqrryB06IQ3R"
      },
      "source": [
        "df"
      ],
      "execution_count": null,
      "outputs": []
    },
    {
      "cell_type": "code",
      "source": [
        "# Print an overview of the data\n",
        "df.info()"
      ],
      "metadata": {
        "id": "7ims1ImceWXm"
      },
      "execution_count": null,
      "outputs": []
    },
    {
      "cell_type": "code",
      "metadata": {
        "id": "jF5D9a3aIUn5"
      },
      "source": [
        "# separating the data and label\n",
        "X = df.drop(columns=['loan_status', 'paid_late_fees'], axis=1)\n",
        "Y = df['loan_status']"
      ],
      "execution_count": null,
      "outputs": []
    },
    {
      "cell_type": "code",
      "metadata": {
        "id": "b-jNlYt-JIbs"
      },
      "source": [
        "print(X)\n",
        "print(Y)"
      ],
      "execution_count": null,
      "outputs": []
    },
    {
      "cell_type": "code",
      "source": [
        "#Print a sample of the features and target variable\n",
        "print(X.shape)\n",
        "print(Y.shape)"
      ],
      "metadata": {
        "id": "eoBGLP95Y0Z8"
      },
      "execution_count": null,
      "outputs": []
    },
    {
      "cell_type": "code",
      "source": [
        "# Saving data to Google Drive\n",
        "from google.colab import drive\n",
        "drive.mount('/content/drive')"
      ],
      "metadata": {
        "id": "M_VqKq5B773l"
      },
      "execution_count": null,
      "outputs": []
    },
    {
      "cell_type": "code",
      "source": [
        "df.to_csv('/content/drive/My Drive/Colab_Notebooks/Predicting_Credit_Card_Approval/Updated_Credit_Card_Data.csv', index=False)"
      ],
      "metadata": {
        "id": "4eKbpGdy8t9t"
      },
      "execution_count": null,
      "outputs": []
    },
    {
      "cell_type": "markdown",
      "metadata": {
        "id": "iOjT0xv2JVfO"
      },
      "source": [
        "Train Test Split"
      ]
    },
    {
      "cell_type": "code",
      "metadata": {
        "id": "p84EJrhcJKQM"
      },
      "source": [
        "X_train, X_test, Y_train, Y_test = train_test_split(X,Y,test_size=0.1,stratify=Y,random_state=2)"
      ],
      "execution_count": null,
      "outputs": []
    },
    {
      "cell_type": "code",
      "metadata": {
        "id": "x7pYOaRCKKG3"
      },
      "source": [
        "print(X.shape, X_train.shape, X_test.shape)"
      ],
      "execution_count": null,
      "outputs": []
    },
    {
      "cell_type": "markdown",
      "metadata": {
        "id": "fOobHS7iKZ4z"
      },
      "source": [
        "Training the model:\n",
        "\n",
        "Support Vector Machine Model"
      ]
    },
    {
      "cell_type": "code",
      "source": [
        "classifier = svm.SVC(kernel='linear', C=0.1)  # Example with lower C"
      ],
      "metadata": {
        "id": "kHNvSAUenwB2"
      },
      "execution_count": null,
      "outputs": []
    },
    {
      "cell_type": "code",
      "source": [
        "def models(X_train, Y_train):\n",
        "\n",
        "  # Check label type (replace with your actual classifier variable)\n",
        "  if Y_train.dtype == 'float64':\n",
        "    # Assuming two classes, convert to 0 and 1 based on a threshold\n",
        "    threshold = 0.5  # Adjust threshold as needed\n",
        "    Y_train = np.where(Y_train > threshold, 1, 0)\n",
        "  # Fit the classifier with discrete labels\n",
        "  classifier.fit(X_train, Y_train)\n"
      ],
      "metadata": {
        "id": "GbqA0oTaewWU"
      },
      "execution_count": null,
      "outputs": []
    },
    {
      "cell_type": "code",
      "source": [
        "model = models(X_train, Y_train)"
      ],
      "metadata": {
        "id": "p6ryzUyFA482"
      },
      "execution_count": null,
      "outputs": []
    },
    {
      "cell_type": "markdown",
      "metadata": {
        "id": "7CuMq2KKLdXs"
      },
      "source": [
        "Model Evaluation"
      ]
    },
    {
      "cell_type": "code",
      "source": [
        "# Define a threshold to separate binary classes\n",
        "threshold = 0.5\n",
        "\n",
        "# Convert continuous values to binary based on the threshold\n",
        "Y_train = np.where(Y_train > threshold, 1, 0)"
      ],
      "metadata": {
        "id": "pYyUVMexFy7V"
      },
      "execution_count": null,
      "outputs": []
    },
    {
      "cell_type": "code",
      "metadata": {
        "id": "xZneuWAIK4Qu"
      },
      "source": [
        "# accuracy score on training data\n",
        "X_train_prediction = classifier.predict(X_train)\n",
        "training_data_accuray = accuracy_score(X_train_prediction,Y_train)"
      ],
      "execution_count": null,
      "outputs": []
    },
    {
      "cell_type": "code",
      "metadata": {
        "id": "av8yolB9MCtG"
      },
      "source": [
        "print('Accuracy on training data : ', training_data_accuray)"
      ],
      "execution_count": null,
      "outputs": []
    },
    {
      "cell_type": "code",
      "source": [
        "# Define a threshold to separate binary classes\n",
        "threshold = 0.5\n",
        "Y_test = np.where(Y_test > threshold, 1, 0)"
      ],
      "metadata": {
        "id": "VQT870Ps3-t0"
      },
      "execution_count": null,
      "outputs": []
    },
    {
      "cell_type": "code",
      "metadata": {
        "id": "gVGYbc2uMLYn"
      },
      "source": [
        "# accuracy score on testing data\n",
        "X_test_prediction = classifier.predict(X_test)\n",
        "test_data_accuray = accuracy_score(X_test_prediction,Y_test)"
      ],
      "execution_count": null,
      "outputs": []
    },
    {
      "cell_type": "code",
      "metadata": {
        "id": "aou4ZalSMiyn"
      },
      "source": [
        "print('Accuracy on test data : ', test_data_accuray)"
      ],
      "execution_count": null,
      "outputs": []
    }
  ]
}